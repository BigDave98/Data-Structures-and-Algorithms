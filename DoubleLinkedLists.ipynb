{
  "nbformat": 4,
  "nbformat_minor": 0,
  "metadata": {
    "colab": {
      "provenance": []
    },
    "kernelspec": {
      "name": "python3",
      "display_name": "Python 3"
    },
    "language_info": {
      "name": "python"
    }
  },
  "cells": [
    {
      "cell_type": "code",
      "execution_count": 1,
      "metadata": {
        "id": "cfZ6mi5yUyVa"
      },
      "outputs": [],
      "source": [
        "class Node:\n",
        "    def __init__(self, value):\n",
        "        self.value = value\n",
        "        self.next = None\n",
        "        self.prev = None\n",
        "\n",
        "\n",
        "class DoublyLinkedList:\n",
        "    def __init__(self, value):\n",
        "        new_node = Node(value)\n",
        "        self.head = new_node\n",
        "        self.tail = new_node\n",
        "        self.length = 1\n",
        "\n",
        "    def print_list(self):\n",
        "        temp = self.head\n",
        "        while temp is not None:\n",
        "            print(temp.value)\n",
        "            temp = temp.next\n",
        "\n",
        "    def append(self, value):\n",
        "        new_node = Node(value)\n",
        "\n",
        "        if self.head == None:\n",
        "            self.head = self.tail = new_node\n",
        "        else:\n",
        "            self.tail.next = new_node\n",
        "            new_node.prev = self.tail\n",
        "            self.tail = new_node\n",
        "            self.length += 1\n",
        "        return True\n",
        "\n",
        "    def pop(self):\n",
        "        if self.length == 0:\n",
        "            return None\n",
        "\n",
        "        temp = self.tail\n",
        "\n",
        "        if self.length == 1:\n",
        "            self.head = self.tail = None\n",
        "            self.length -= 1\n",
        "            return temp\n",
        "\n",
        "        temp = self.tail\n",
        "        self.tail = self.tail.prev\n",
        "        self.tail.next = None\n",
        "        temp.prev = None\n",
        "\n",
        "        self.length -= 1\n",
        "\n",
        "        return temp\n",
        "\n",
        "    def prepend(self, value):\n",
        "        new_node = Node(value)\n",
        "\n",
        "        if self.head == None:\n",
        "            self.head = self.tail = new_node\n",
        "            self.length += 1\n",
        "            return True\n",
        "\n",
        "        self.head.prev = new_node\n",
        "        new_node.next = self.head\n",
        "        self.head = new_node\n",
        "\n",
        "        self.length += 1\n",
        "\n",
        "        return True\n",
        "\n",
        "    def pop_first(self):\n",
        "        if self.head == None:\n",
        "            return None\n",
        "        elif self.length == 1:\n",
        "            temp = self.head\n",
        "            self.head = self.tail = None\n",
        "            self.length -= 1\n",
        "\n",
        "            return temp\n",
        "\n",
        "        temp = self.head\n",
        "\n",
        "        self.head = self.head.next\n",
        "        self.head.prev = None\n",
        "        self.length -= 1\n",
        "\n",
        "        temp.next = None\n",
        "\n",
        "        return temp\n",
        "\n",
        "    def get(self, idx):\n",
        "        if idx < 0 or idx >= self.length:\n",
        "            return None\n",
        "\n",
        "        temp = self.head\n",
        "\n",
        "        if idx < self.length/2:\n",
        "            for _ in range(idx):\n",
        "                temp = temp.next\n",
        "        else:\n",
        "            temp = self.tail\n",
        "            for _ in range(self.length - 1, idx, -1):\n",
        "                temp = temp.prev\n",
        "\n",
        "        return temp\n",
        "\n",
        "    def set_value(self, idx, value):\n",
        "        temp = self.get(idx)\n",
        "\n",
        "        if temp == None:\n",
        "            return False\n",
        "\n",
        "        temp.value = value\n",
        "\n",
        "        return True\n",
        "\n",
        "    def insert(self, idx, value):\n",
        "        if idx < 0 or idx > self.length:\n",
        "            return False\n",
        "        elif idx == 0:\n",
        "            return self.prepend(value)\n",
        "        elif idx == self.length:\n",
        "            return self.append(value)\n",
        "\n",
        "        new_node = Node(value)\n",
        "\n",
        "        bef = self.get(idx-1)\n",
        "        after = bef.next\n",
        "\n",
        "        bef.next = new_node\n",
        "        new_node.prev = bef\n",
        "        new_node.next = after\n",
        "        after.prev = new_node\n",
        "\n",
        "        self.length += 1\n",
        "\n",
        "        return True\n",
        "\n",
        "    def remove(self, idx):\n",
        "        if idx < 0 or idx >= self.length:\n",
        "            return None\n",
        "        elif idx == 0:\n",
        "            temp = self.pop_first()\n",
        "            return temp\n",
        "        elif idx == self.length - 1:\n",
        "            temp = self.pop()\n",
        "            return temp\n",
        "\n",
        "        temp = self.get(idx)\n",
        "        prev = temp.prev\n",
        "        after = temp.next\n",
        "\n",
        "        temp.prev = temp.next = None\n",
        "\n",
        "        prev.next = after\n",
        "        after.prev = prev\n",
        "\n",
        "        self.length -= 1\n",
        "\n",
        "        return temp\n",
        "\n",
        ""
      ]
    },
    {
      "cell_type": "markdown",
      "source": [
        "# Testing Constructor functions"
      ],
      "metadata": {
        "id": "NaOfXasGVvf5"
      }
    },
    {
      "cell_type": "code",
      "source": [
        "my_doubly_linked_list = DoublyLinkedList(7)\n",
        "\n",
        "print('Head:', my_doubly_linked_list.head.value)\n",
        "print('Tail:', my_doubly_linked_list.tail.value)\n",
        "print('Length:', my_doubly_linked_list.length)"
      ],
      "metadata": {
        "colab": {
          "base_uri": "https://localhost:8080/"
        },
        "id": "73Tb_00_V4JB",
        "outputId": "9380443d-9f41-4ff3-893a-970261b66ad5"
      },
      "execution_count": 2,
      "outputs": [
        {
          "output_type": "stream",
          "name": "stdout",
          "text": [
            "Head: 7\n",
            "Tail: 7\n",
            "Length: 1\n"
          ]
        }
      ]
    },
    {
      "cell_type": "markdown",
      "source": [
        "# Testing Append Function\n"
      ],
      "metadata": {
        "id": "owXVqnWeV9Qj"
      }
    },
    {
      "cell_type": "code",
      "source": [
        "my_doubly_linked_list = DoublyLinkedList(1)\n",
        "my_doubly_linked_list.append(2)\n",
        "\n",
        "\n",
        "print('Head:', my_doubly_linked_list.head.value)\n",
        "print('Tail:', my_doubly_linked_list.tail.value)\n",
        "print('Length:', my_doubly_linked_list.length, '\\n')\n",
        "\n",
        "print('Doubly Linked List:')\n",
        "my_doubly_linked_list.print_list()"
      ],
      "metadata": {
        "colab": {
          "base_uri": "https://localhost:8080/"
        },
        "id": "rtGqhVFCWDD2",
        "outputId": "06d6cecd-6cae-48e6-d487-d0719ad91d29"
      },
      "execution_count": 3,
      "outputs": [
        {
          "output_type": "stream",
          "name": "stdout",
          "text": [
            "Head: 1\n",
            "Tail: 2\n",
            "Length: 2 \n",
            "\n",
            "Doubly Linked List:\n",
            "1\n",
            "2\n"
          ]
        }
      ]
    },
    {
      "cell_type": "markdown",
      "source": [
        "# Testing pop function"
      ],
      "metadata": {
        "id": "5HFsrPlBWIHN"
      }
    },
    {
      "cell_type": "code",
      "source": [
        "my_doubly_linked_list = DoublyLinkedList(1)\n",
        "my_doubly_linked_list.append(2)\n",
        "\n",
        "\n",
        "# (2) Items - Returns 2 Node\n",
        "print(my_doubly_linked_list.pop().value)\n",
        "# (1) Item -  Returns 1 Node\n",
        "print(my_doubly_linked_list.pop().value)\n",
        "# (0) Items - Returns None\n",
        "print(my_doubly_linked_list.pop())"
      ],
      "metadata": {
        "colab": {
          "base_uri": "https://localhost:8080/"
        },
        "id": "B133_Cu8WIN7",
        "outputId": "a0d1f705-513c-46f0-bd8d-019dd83bd56c"
      },
      "execution_count": 4,
      "outputs": [
        {
          "output_type": "stream",
          "name": "stdout",
          "text": [
            "2\n",
            "1\n",
            "None\n"
          ]
        }
      ]
    },
    {
      "cell_type": "markdown",
      "source": [
        "# Testing prepend function"
      ],
      "metadata": {
        "id": "6CkkMwZ6WCNt"
      }
    },
    {
      "cell_type": "code",
      "source": [
        "my_doubly_linked_list = DoublyLinkedList(2)\n",
        "my_doubly_linked_list.append(3)\n",
        "\n",
        "print('Before prepend():')\n",
        "print('----------------')\n",
        "print('Head:', my_doubly_linked_list.head.value)\n",
        "print('Tail:', my_doubly_linked_list.tail.value)\n",
        "print('Length:', my_doubly_linked_list.length, '\\n')\n",
        "print('Doubly Linked List:')\n",
        "my_doubly_linked_list.print_list()\n",
        "\n",
        "\n",
        "my_doubly_linked_list.prepend(1)\n",
        "\n",
        "\n",
        "print('\\n\\nAfter prepend():')\n",
        "print('---------------')\n",
        "print('Head:', my_doubly_linked_list.head.value)\n",
        "print('Tail:', my_doubly_linked_list.tail.value)\n",
        "print('Length:', my_doubly_linked_list.length, '\\n')\n",
        "print('Doubly Linked List:')\n",
        "my_doubly_linked_list.print_list()"
      ],
      "metadata": {
        "colab": {
          "base_uri": "https://localhost:8080/"
        },
        "id": "bXWXfYREWTDY",
        "outputId": "3d294352-27d1-4cbe-8fe1-e255d477d015"
      },
      "execution_count": 5,
      "outputs": [
        {
          "output_type": "stream",
          "name": "stdout",
          "text": [
            "Before prepend():\n",
            "----------------\n",
            "Head: 2\n",
            "Tail: 3\n",
            "Length: 2 \n",
            "\n",
            "Doubly Linked List:\n",
            "2\n",
            "3\n",
            "\n",
            "\n",
            "After prepend():\n",
            "---------------\n",
            "Head: 1\n",
            "Tail: 3\n",
            "Length: 3 \n",
            "\n",
            "Doubly Linked List:\n",
            "1\n",
            "2\n",
            "3\n"
          ]
        }
      ]
    },
    {
      "cell_type": "markdown",
      "source": [
        "# Testing pop_first Function"
      ],
      "metadata": {
        "id": "5KeySWV-Wtl4"
      }
    },
    {
      "cell_type": "code",
      "source": [
        "my_doubly_linked_list = DoublyLinkedList(2)\n",
        "my_doubly_linked_list.append(1)\n",
        "\n",
        "\n",
        "# (2) Items - Returns 2 Node\n",
        "print(my_doubly_linked_list.pop_first().value)\n",
        "# (1) Item -  Returns 1 Node\n",
        "print(my_doubly_linked_list.pop_first().value)\n",
        "# (0) Items - Returns None\n",
        "print(my_doubly_linked_list.pop_first())\n",
        "\n"
      ],
      "metadata": {
        "id": "UrEcnWAzWtF1"
      },
      "execution_count": null,
      "outputs": []
    },
    {
      "cell_type": "markdown",
      "source": [
        "# Testing Get Function"
      ],
      "metadata": {
        "id": "ArU4vNuBW0AW"
      }
    },
    {
      "cell_type": "code",
      "source": [
        "my_doubly_linked_list = DoublyLinkedList(0)\n",
        "my_doubly_linked_list.append(1)\n",
        "my_doubly_linked_list.append(2)\n",
        "my_doubly_linked_list.append(3)\n",
        "\n",
        "print('Get node from first half of DLL:')\n",
        "print(my_doubly_linked_list.get(1).value)\n",
        "\n",
        "print('\\nGet node from second half of DLL:')\n",
        "print(my_doubly_linked_list.get(2).value)"
      ],
      "metadata": {
        "colab": {
          "base_uri": "https://localhost:8080/"
        },
        "id": "A58VrheoW0GC",
        "outputId": "0e3deec8-20a2-4188-b5e8-ce0c0cc021f0"
      },
      "execution_count": 7,
      "outputs": [
        {
          "output_type": "stream",
          "name": "stdout",
          "text": [
            "Get node from first half of DLL:\n",
            "1\n",
            "\n",
            "Get node from second half of DLL:\n",
            "2\n"
          ]
        }
      ]
    },
    {
      "cell_type": "markdown",
      "source": [
        "# Testing Set Function"
      ],
      "metadata": {
        "id": "yfZv37gNXA6U"
      }
    },
    {
      "cell_type": "code",
      "source": [
        "my_doubly_linked_list.append(3)\n",
        "my_doubly_linked_list.append(23)\n",
        "my_doubly_linked_list.append(7)\n",
        "\n",
        "print('DLL before set_value():')\n",
        "my_doubly_linked_list.print_list()\n",
        "\n",
        "my_doubly_linked_list.set_value(1,4)\n",
        "\n",
        "print('\\nDLL after set_value():')\n",
        "my_doubly_linked_list.print_list()"
      ],
      "metadata": {
        "colab": {
          "base_uri": "https://localhost:8080/"
        },
        "id": "Gl3qeGnlW_D_",
        "outputId": "854801be-038e-4644-997c-dbdeaa3c8c7e"
      },
      "execution_count": 6,
      "outputs": [
        {
          "output_type": "stream",
          "name": "stdout",
          "text": [
            "DLL before set_value():\n",
            "1\n",
            "2\n",
            "3\n",
            "3\n",
            "23\n",
            "7\n",
            "\n",
            "DLL after set_value():\n",
            "1\n",
            "4\n",
            "3\n",
            "3\n",
            "23\n",
            "7\n"
          ]
        }
      ]
    },
    {
      "cell_type": "markdown",
      "source": [
        "# Testing insert function"
      ],
      "metadata": {
        "id": "Ed5mVxtDXJOy"
      }
    },
    {
      "cell_type": "code",
      "source": [
        "my_doubly_linked_list = DoublyLinkedList(1)\n",
        "my_doubly_linked_list.append(3)\n",
        "\n",
        "\n",
        "print('DLL before insert():')\n",
        "my_doubly_linked_list.print_list()\n",
        "\n",
        "\n",
        "my_doubly_linked_list.insert(1,2)\n",
        "\n",
        "print('\\nDLL after insert(2) in middle:')\n",
        "my_doubly_linked_list.print_list()\n",
        "\n",
        "\n",
        "my_doubly_linked_list.insert(0,0)\n",
        "\n",
        "print('\\nDLL after insert(0) at beginning:')\n",
        "my_doubly_linked_list.print_list()\n",
        "\n",
        "\n",
        "my_doubly_linked_list.insert(4,4)\n",
        "\n",
        "print('\\nDLL after insert(4) at end:')\n",
        "my_doubly_linked_list.print_list()"
      ],
      "metadata": {
        "colab": {
          "base_uri": "https://localhost:8080/"
        },
        "id": "0rt6EKCZXJVo",
        "outputId": "a3f29c16-5624-4212-8bdb-59d6863cd9b4"
      },
      "execution_count": 8,
      "outputs": [
        {
          "output_type": "stream",
          "name": "stdout",
          "text": [
            "DLL before insert():\n",
            "1\n",
            "3\n",
            "\n",
            "DLL after insert(2) in middle:\n",
            "1\n",
            "2\n",
            "3\n",
            "\n",
            "DLL after insert(0) at beginning:\n",
            "0\n",
            "1\n",
            "2\n",
            "3\n",
            "\n",
            "DLL after insert(4) at end:\n",
            "0\n",
            "1\n",
            "2\n",
            "3\n",
            "4\n"
          ]
        }
      ]
    },
    {
      "cell_type": "markdown",
      "source": [
        "# Testing remove Function"
      ],
      "metadata": {
        "id": "8UT_YmdAXOEh"
      }
    },
    {
      "cell_type": "code",
      "source": [
        "my_doubly_linked_list = DoublyLinkedList(1)\n",
        "my_doubly_linked_list.append(2)\n",
        "my_doubly_linked_list.append(3)\n",
        "my_doubly_linked_list.append(4)\n",
        "my_doubly_linked_list.append(5)\n",
        "\n",
        "print('DLL before remove():')\n",
        "my_doubly_linked_list.print_list()\n",
        "\n",
        "print('\\nRemoved node:')\n",
        "print(my_doubly_linked_list.remove(2).value)\n",
        "print('DLL after remove() in middle:')\n",
        "my_doubly_linked_list.print_list()\n",
        "\n",
        "print('\\nRemoved node:')\n",
        "print(my_doubly_linked_list.remove(0).value)\n",
        "print('DLL after remove() of first node:')\n",
        "my_doubly_linked_list.print_list()\n",
        "\n",
        "print('\\nRemoved node:')\n",
        "print(my_doubly_linked_list.remove(2).value)\n",
        "print('DLL after remove() of last node:')\n",
        "my_doubly_linked_list.print_list()"
      ],
      "metadata": {
        "colab": {
          "base_uri": "https://localhost:8080/"
        },
        "id": "MNoYHStXXOKQ",
        "outputId": "bb99269b-9982-4506-895c-23f35dc744c7"
      },
      "execution_count": 9,
      "outputs": [
        {
          "output_type": "stream",
          "name": "stdout",
          "text": [
            "DLL before remove():\n",
            "1\n",
            "2\n",
            "3\n",
            "4\n",
            "5\n",
            "\n",
            "Removed node:\n",
            "3\n",
            "DLL after remove() in middle:\n",
            "1\n",
            "2\n",
            "4\n",
            "5\n",
            "\n",
            "Removed node:\n",
            "1\n",
            "DLL after remove() of first node:\n",
            "2\n",
            "4\n",
            "5\n",
            "\n",
            "Removed node:\n",
            "5\n",
            "DLL after remove() of last node:\n",
            "2\n",
            "4\n"
          ]
        }
      ]
    },
    {
      "cell_type": "markdown",
      "source": [
        "# Leet Code chalenges"
      ],
      "metadata": {
        "id": "MeRFJFdUXW1q"
      }
    },
    {
      "cell_type": "markdown",
      "source": [
        "# 1- Swap First and Last ( ** Interview Question)\n",
        "Swap the values of the first and last node\n"
      ],
      "metadata": {
        "id": "9pGQLKN3XZL9"
      }
    },
    {
      "cell_type": "code",
      "source": [
        "class Node:\n",
        "    def __init__(self, value):\n",
        "        self.value = value\n",
        "        self.next = None\n",
        "        self.prev = None\n",
        "\n",
        "\n",
        "class DoublyLinkedList:\n",
        "    def __init__(self, value):\n",
        "        new_node = Node(value)\n",
        "        self.head = new_node\n",
        "        self.tail = new_node\n",
        "        self.length = 1\n",
        "\n",
        "    def print_list(self):\n",
        "        temp = self.head\n",
        "        while temp is not None:\n",
        "            print(temp.value)\n",
        "            temp = temp.next\n",
        "\n",
        "    def append(self, value):\n",
        "        new_node = Node(value)\n",
        "        if self.head is None:\n",
        "            self.head = new_node\n",
        "            self.tail = new_node\n",
        "        else:\n",
        "            self.tail.next = new_node\n",
        "            new_node.prev = self.tail\n",
        "            self.tail = new_node\n",
        "        self.length += 1\n",
        "        return True\n",
        "\n",
        "    # My solution #\n",
        "    def swap_first_last(self):\n",
        "        if self.head == None:\n",
        "            return self\n",
        "\n",
        "        temp = self.tail.value\n",
        "        temp2 = self.head.value\n",
        "\n",
        "        self.head.value = temp\n",
        "        self.tail.value = temp2\n",
        ""
      ],
      "metadata": {
        "id": "T_vq4oyPXfLn"
      },
      "execution_count": 13,
      "outputs": []
    },
    {
      "cell_type": "markdown",
      "source": [
        "# Testing"
      ],
      "metadata": {
        "id": "fV_UFur4XkKL"
      }
    },
    {
      "cell_type": "code",
      "source": [
        "my_doubly_linked_list = DoublyLinkedList(1)\n",
        "my_doubly_linked_list.append(2)\n",
        "my_doubly_linked_list.append(3)\n",
        "my_doubly_linked_list.append(4)\n",
        "\n",
        "\n",
        "print('DLL before swap_first_last():')\n",
        "my_doubly_linked_list.print_list()\n",
        "\n",
        "\n",
        "my_doubly_linked_list.swap_first_last()\n",
        "\n",
        "\n",
        "print('\\nDLL after swap_first_last():')\n",
        "my_doubly_linked_list.print_list()"
      ],
      "metadata": {
        "colab": {
          "base_uri": "https://localhost:8080/"
        },
        "id": "7AwxUDw1Xjip",
        "outputId": "a5f262e1-eadd-474d-cdd9-a8f0c632ba6d"
      },
      "execution_count": 14,
      "outputs": [
        {
          "output_type": "stream",
          "name": "stdout",
          "text": [
            "DLL before swap_first_last():\n",
            "1\n",
            "2\n",
            "3\n",
            "4\n",
            "\n",
            "DLL after swap_first_last():\n",
            "4\n",
            "2\n",
            "3\n",
            "1\n"
          ]
        }
      ]
    },
    {
      "cell_type": "markdown",
      "source": [
        "# 2- Reverse ( ** Interview Question)\n",
        "Create a new method called reverse that reverses the order of the nodes in the list, i.e., the first node becomes the last node, the second node becomes the second-to-last node, and so on.\n",
        "\n",
        "To do this, you'll need to traverse the list and change the direction of the pointers between the nodes so that they point in the opposite direction.\n",
        "\n",
        "Do not change the value of any of the nodes.\n",
        "\n",
        "Once you've done this for all nodes, you'll also need to update the head and tail pointers to reflect the new order of the nodes."
      ],
      "metadata": {
        "id": "kwDHU0WwX3P5"
      }
    },
    {
      "cell_type": "code",
      "source": [
        "class Node:\n",
        "    def __init__(self, value):\n",
        "        self.value = value\n",
        "        self.next = None\n",
        "        self.prev = None\n",
        "\n",
        "\n",
        "class DoublyLinkedList:\n",
        "    def __init__(self, value):\n",
        "        new_node = Node(value)\n",
        "        self.head = new_node\n",
        "        self.tail = new_node\n",
        "        self.length = 1\n",
        "\n",
        "    def print_list(self):\n",
        "        temp = self.head\n",
        "        while temp is not None:\n",
        "            print(temp.value)\n",
        "            temp = temp.next\n",
        "\n",
        "    def append(self, value):\n",
        "        new_node = Node(value)\n",
        "        if self.head is None:\n",
        "            self.head = new_node\n",
        "            self.tail = new_node\n",
        "        else:\n",
        "            self.tail.next = new_node\n",
        "            new_node.prev = self.tail\n",
        "            self.tail = new_node\n",
        "        self.length += 1\n",
        "        return True\n",
        "\n",
        "    # My solution #\n",
        "    def reverse(self):\n",
        "        curr = self.head\n",
        "        while curr != None:\n",
        "            curr.prev, curr.next = curr.next, curr.prev\n",
        "            curr = curr.prev\n",
        "\n",
        "        self.head, self.tail = self.tail, self.head"
      ],
      "metadata": {
        "id": "3-aahSxzX3Zl"
      },
      "execution_count": 15,
      "outputs": []
    },
    {
      "cell_type": "code",
      "source": [
        "my_doubly_linked_list = DoublyLinkedList(1)\n",
        "my_doubly_linked_list.append(2)\n",
        "my_doubly_linked_list.append(3)\n",
        "my_doubly_linked_list.append(4)\n",
        "my_doubly_linked_list.append(5)\n",
        "\n",
        "\n",
        "print('DLL before reverse():')\n",
        "my_doubly_linked_list.print_list()\n",
        "\n",
        "\n",
        "my_doubly_linked_list.reverse()\n",
        "\n",
        "\n",
        "print('\\nDLL after reverse():')\n",
        "my_doubly_linked_list.print_list()"
      ],
      "metadata": {
        "colab": {
          "base_uri": "https://localhost:8080/"
        },
        "id": "DNWv7OzoYE3U",
        "outputId": "e7dcca0b-d6d7-48f7-e881-9ae1b6b6acaf"
      },
      "execution_count": 16,
      "outputs": [
        {
          "output_type": "stream",
          "name": "stdout",
          "text": [
            "DLL before reverse():\n",
            "1\n",
            "2\n",
            "3\n",
            "4\n",
            "5\n",
            "\n",
            "DLL after reverse():\n",
            "5\n",
            "4\n",
            "3\n",
            "2\n",
            "1\n"
          ]
        }
      ]
    },
    {
      "cell_type": "markdown",
      "source": [
        "# 3- Palindrome Checker ( ** Interview Question)\n",
        "Write a method to determine whether a given doubly linked list reads the same forwards and backwards.\n",
        "\n",
        "For example, if the list contains the values [1, 2, 3, 2, 1], then the method should return True, since the list is a palindrome.\n",
        "\n",
        "If the list contains the values [1, 2, 3, 4, 5], then the method should return False, since the list is not a palindrome.\n"
      ],
      "metadata": {
        "id": "MSTc9ClzYNB_"
      }
    },
    {
      "cell_type": "code",
      "source": [
        "class Node:\n",
        "    def __init__(self, value):\n",
        "        self.value = value\n",
        "        self.next = None\n",
        "        self.prev = None\n",
        "\n",
        "\n",
        "class DoublyLinkedList:\n",
        "    def __init__(self, value):\n",
        "        new_node = Node(value)\n",
        "        self.head = new_node\n",
        "        self.tail = new_node\n",
        "        self.length = 1\n",
        "\n",
        "    def print_list(self):\n",
        "        temp = self.head\n",
        "        while temp is not None:\n",
        "            print(temp.value)\n",
        "            temp = temp.next\n",
        "\n",
        "    def append(self, value):\n",
        "        new_node = Node(value)\n",
        "        if self.head is None:\n",
        "            self.head = new_node\n",
        "            self.tail = new_node\n",
        "        else:\n",
        "            self.tail.next = new_node\n",
        "            new_node.prev = self.tail\n",
        "            self.tail = new_node\n",
        "        self.length += 1\n",
        "        return True\n",
        "\n",
        "    # My solution #\n",
        "    def is_palindrome(self):\n",
        "        if self.head == None or self.length == 1:\n",
        "            return True\n",
        "\n",
        "        i = self.length/2\n",
        "\n",
        "        while i <= self.length:\n",
        "            if self.head.value == self.tail.value:\n",
        "                self.head = self.head.next\n",
        "                self.tail = self.tail.prev\n",
        "                i += 1\n",
        "            else:\n",
        "                return False\n",
        "        return True"
      ],
      "metadata": {
        "id": "doLflGFiYNMB"
      },
      "execution_count": 17,
      "outputs": []
    },
    {
      "cell_type": "markdown",
      "source": [
        "# Testing"
      ],
      "metadata": {
        "id": "4P8LkTNPYPwA"
      }
    },
    {
      "cell_type": "code",
      "source": [
        "my_dll_1 = DoublyLinkedList(1)\n",
        "my_dll_1.append(2)\n",
        "my_dll_1.append(3)\n",
        "my_dll_1.append(2)\n",
        "my_dll_1.append(1)\n",
        "\n",
        "print('my_dll_1 is_palindrome:')\n",
        "print( my_dll_1.is_palindrome() )\n",
        "\n",
        "\n",
        "my_dll_2 = DoublyLinkedList(1)\n",
        "my_dll_2.append(2)\n",
        "my_dll_2.append(3)\n",
        "\n",
        "print('\\nmy_dll_2 is_palindrome:')\n",
        "print( my_dll_2.is_palindrome() )"
      ],
      "metadata": {
        "colab": {
          "base_uri": "https://localhost:8080/"
        },
        "id": "-EY_M2JPYP11",
        "outputId": "9fac9a4a-032a-47ed-99b3-46c4bb5946dd"
      },
      "execution_count": 18,
      "outputs": [
        {
          "output_type": "stream",
          "name": "stdout",
          "text": [
            "my_dll_1 is_palindrome:\n",
            "True\n",
            "\n",
            "my_dll_2 is_palindrome:\n",
            "False\n"
          ]
        }
      ]
    }
  ]
}